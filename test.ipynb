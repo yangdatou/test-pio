{
 "cells": [
  {
   "cell_type": "code",
   "execution_count": 85,
   "id": "4513eda2-71e3-4a86-a03e-7601b01b795c",
   "metadata": {},
   "outputs": [
    {
     "name": "stdout",
     "output_type": "stream",
     "text": [
      "converged SCF energy = -152.025489053146\n"
     ]
    }
   ],
   "source": [
    "'''\n",
    "Mulliken population analysis with IAO orbitals\n",
    "'''\n",
    "\n",
    "import numpy\n",
    "from functools import reduce\n",
    "from sys import stdout\n",
    "from pyscf import gto, scf, lo\n",
    "from pyscf.tools.dump_mat import dump_rec\n",
    "from pyscf.tools.dump_mat import dump_mo\n",
    "\n",
    "h2o_1 = gto.M(atom=\"\"\"\n",
    "  O    1.3739407   -0.0638029   -0.2288247\n",
    "  H    2.1291628    0.5081390   -0.0925662\n",
    "  H    0.8631284   -0.0251761    0.5847385\n",
    "\"\"\", basis='631g*')\n",
    "\n",
    "h2o_2 = gto.M(atom=\"\"\"\n",
    "  O   -1.3716754   -0.0662078    0.2279844\n",
    "  H   -2.1274466    0.5076811    0.1037095\n",
    "  H   -0.8693669   -0.0228122   -0.5906583\n",
    "\"\"\", basis='631g*')\n",
    "\n",
    "mol = h2o_1 + h2o_2\n",
    "\n",
    "mf = scf.RHF(mol).run()\n",
    "\n",
    "orb  = mf.mo_coeff[:,mf.mo_occ>0]\n",
    "c_ao_lo = lo.iao.iao(mol, orb)\n",
    "c_ao_lo = lo.vec_lowdin(c_ao_lo, mf.get_ovlp())"
   ]
  },
  {
   "cell_type": "code",
   "execution_count": 105,
   "id": "e553a549-3fa6-4bac-9658-e98937178205",
   "metadata": {},
   "outputs": [],
   "source": [
    "# transform mo_occ to IAO representation. Note the AO dimension is reduced\n",
    "ovlp_ao = mf.get_ovlp()\n",
    "dm_ao = mf.make_rdm1()\n",
    "dm_lo = reduce(numpy.dot, [c_ao_lo.T, ovlp_ao, dm_ao, ovlp_ao, c_ao_lo])\n",
    "assert numpy.linalg.norm(reduce(numpy.dot, [dm_lo/2, dm_lo/2]) - dm_lo/2) < 1e-8\n",
    "\n",
    "idx_a = slice(0,7)\n",
    "idx_b = slice(7,14)\n",
    "\n",
    "dm_aa = dm_lo[idx_a, idx_a]\n",
    "dm_bb = dm_lo[idx_b, idx_b]\n",
    "dm_ab = dm_lo[idx_a, idx_b]"
   ]
  },
  {
   "cell_type": "code",
   "execution_count": 89,
   "id": "b3b4e647-d9ea-4343-a20a-2d1ae76efec8",
   "metadata": {},
   "outputs": [
    {
     "name": "stdout",
     "output_type": "stream",
     "text": [
      "        #0        #1        #2        #3        #4       \n",
      "0      -0.03381   0.02127   0.05897  -0.02555  -0.94426\n",
      "1      -0.33700   0.43386   0.25807  -0.25592   0.03946\n",
      "2       0.20791  -0.63717   0.59574  -0.42171   0.00131\n",
      "3      -0.03807   0.13767  -0.11927  -0.27980  -0.29444\n",
      "4      -0.39573  -0.60436  -0.57591   0.01247  -0.05313\n",
      "5       0.11057  -0.12596   0.30664   0.81490  -0.12334\n",
      "6       0.81963   0.07248  -0.36754  -0.11622  -0.04575\n",
      "        #5        #6       \n",
      "0      -0.29146  -0.13307\n",
      "1      -0.29748   0.68997\n",
      "2       0.02216   0.13244\n",
      "3       0.86570   0.22575\n",
      "4      -0.10926   0.36271\n",
      "5       0.18256   0.40655\n",
      "6      -0.17713   0.37536\n",
      "        #0        #1        #2        #3        #4       \n",
      "0       0.02149   0.43512   0.64165   0.13296   0.60019\n",
      "1      -0.03384  -0.33728  -0.20326  -0.04086   0.39775\n",
      "2       0.02551   0.25547  -0.42134   0.28016   0.01941\n",
      "3      -0.05945  -0.26223   0.59257   0.12666  -0.57660\n",
      "4      -0.16093  -0.37247  -0.00853   0.86262   0.15068\n",
      "5       0.95062   0.06515  -0.01081   0.22318  -0.10146\n",
      "6      -0.25423   0.64800  -0.13456   0.30364  -0.34018\n",
      "        #5        #6       \n",
      "0      -0.12440   0.07142\n",
      "1       0.11174   0.81941\n",
      "2      -0.81481   0.11735\n",
      "3      -0.30815   0.36482\n",
      "4       0.15212  -0.21295\n",
      "5       0.14507   0.10399\n",
      "6       0.41108   0.34706\n"
     ]
    }
   ],
   "source": [
    "from scipy import linalg\n",
    "\n",
    "uab, sab, vhab = linalg.svd(dm_ab)\n",
    "numpy.linalg.norm(\n",
    "    dm_ab - reduce(numpy.dot, [uab, numpy.diag(sab), vhab])\n",
    ")"
   ]
  },
  {
   "cell_type": "code",
   "execution_count": 107,
   "id": "643e420e-5566-44b7-95e3-5e70132fb1a0",
   "metadata": {},
   "outputs": [
    {
     "data": {
      "text/plain": [
       "1.407527803117514e-14"
      ]
     },
     "execution_count": 107,
     "metadata": {},
     "output_type": "execute_result"
    }
   ],
   "source": [
    "from pyscf import tools\n",
    "\n",
    "ua, sa, vha = linalg.svd(dm_aa)\n",
    "numpy.linalg.norm(\n",
    "    dm_aa - reduce(numpy.dot, [ua, numpy.diag(sa), vha])\n",
    ")\n",
    "\n",
    "# print(sa)\n",
    "# dump_rec(stdout, uab)\n",
    "# dump_rec(stdout, ua)\n",
    "\n",
    "ub, sb, vhb = linalg.svd(dm_bb)\n",
    "numpy.linalg.norm(\n",
    "    dm_bb - reduce(numpy.dot, [ub, numpy.diag(sb), vhb])\n",
    ")\n",
    "\n",
    "# print(sb)\n",
    "# dump_rec(stdout, ub)\n",
    "# dump_rec(stdout, vhab.T)"
   ]
  },
  {
   "cell_type": "code",
   "execution_count": 108,
   "id": "2e56555b-b16d-4117-a62c-728803be77c3",
   "metadata": {},
   "outputs": [],
   "source": [
    "c_ao_lo_a = c_ao_lo[:,idx_a]\n",
    "c_pio_a   = reduce(numpy.dot, [c_ao_lo_a, ua])\n",
    "npio = c_ao_lo_a.shape[1]\n",
    "\n",
    "for pp in range(npio):\n",
    "    tools.cubegen.orbital(mol, f'./cube/h2o_a_{pp}_{s[pp]:4.2f}.cube', c_pio_a[:,pp])\n",
    "\n",
    "c_ao_lo_b = c_ao_lo[:,idx_b]\n",
    "c_pio_b   = reduce(numpy.dot, [c_ao_lo_b, ub])\n",
    "npio = c_ao_lo_b.shape[1]\n",
    "\n",
    "for pp in range(npio):\n",
    "    tools.cubegen.orbital(mol, f'./cube/h2o_b_{pp}_{s[pp]:4.2f}.cube', c_pio_b[:,pp])"
   ]
  },
  {
   "cell_type": "code",
   "execution_count": 117,
   "id": "82082a1b-da84-4256-bfc5-a677ddb31d6f",
   "metadata": {},
   "outputs": [
    {
     "name": "stdout",
     "output_type": "stream",
     "text": [
      "               #0        #1        #2        #3        #4       \n",
      "  0 O 1s       0.72586  -0.00740  -0.08402  -0.68883   0.01814\n",
      "  0 O 2s       0.01272   0.51437   0.16544   0.16388   0.09702\n",
      "  0 O 3s       0.01058   0.50670   0.21155   0.22241   0.17342\n",
      "  0 O 2px     -0.52246   0.09682   0.05437  -0.56165  -0.03409\n",
      "  0 O 2py      0.00144   0.16863   0.43287  -0.11978  -0.41489\n",
      "  0 O 2pz      0.06328   0.38734  -0.36595   0.19712  -0.40143\n",
      "  0 O 3px     -0.35108   0.06701  -0.01337  -0.36494  -0.01670\n",
      "  0 O 3py      0.03202   0.11668   0.32641  -0.05747  -0.31644\n",
      "  0 O 3pz      0.01836   0.27620  -0.26338   0.11322  -0.29339\n",
      "  0 O 3dxy    -0.01427   0.02029   0.00389  -0.01231   0.00341\n",
      "  0 O 3dyz     0.00181   0.01151   0.00041  -0.00242  -0.02078\n",
      "  0 O 3dz^2    0.00536  -0.00092  -0.03339   0.00680  -0.01550\n",
      "  0 O 3dxz    -0.01871   0.00716   0.00268  -0.01696   0.00459\n",
      " 0 O 3dx2-y2  -0.00617   0.00475  -0.01129  -0.00135   0.00947\n",
      "  1 H 1s       0.04708   0.17694  -0.14521   0.08371   0.20199\n",
      "  1 H 2s       0.17842  -0.03008  -0.26735   0.19156   0.28835\n",
      "  2 H 1s      -0.07049  -0.24405  -0.22855  -0.23844  -0.05471\n",
      "  2 H 2s      -0.18444  -0.46939  -0.17752  -0.44405   0.02782\n",
      "  3 O 1s      -0.00167  -0.00207  -0.00148  -0.00271  -0.00117\n",
      "  3 O 2s       0.01135  -0.00202   0.00801   0.01173   0.01232\n",
      "  3 O 3s       0.00019   0.01296  -0.00230   0.00417  -0.00602\n",
      "  3 O 2px      0.00559   0.02245   0.00983   0.01688   0.00101\n",
      "  3 O 2py     -0.00123  -0.00164  -0.00268  -0.00099   0.00173\n",
      "  3 O 2pz      0.00137   0.02258  -0.00342   0.01210  -0.01349\n",
      "  3 O 3px      0.00655   0.02297   0.00635   0.01788  -0.00019\n",
      "  3 O 3py     -0.00085  -0.00186   0.00017  -0.00211   0.00018\n",
      "  3 O 3pz      0.00290   0.00229   0.00316   0.00469   0.00389\n",
      "  3 O 3dxy     0.00021  -0.00001   0.00027  -0.00003  -0.00011\n",
      "  3 O 3dyz     0.00030  -0.00042   0.00011   0.00016   0.00048\n",
      "  3 O 3dz^2   -0.00237   0.00012  -0.00069  -0.00240  -0.00076\n",
      "  3 O 3dxz     0.00073   0.00118   0.00044   0.00128  -0.00069\n",
      " 3 O 3dx2-y2   0.00275   0.00276   0.00040   0.00419  -0.00094\n",
      "  4 H 1s       0.00557   0.00684   0.00418   0.00998   0.00521\n",
      "  4 H 2s       0.00207   0.00875  -0.00052   0.00568  -0.00263\n",
      "  5 H 1s      -0.01373   0.02872  -0.00956  -0.00041  -0.03055\n",
      "  5 H 2s      -0.00701   0.01346   0.00901   0.00232  -0.00485\n",
      "               #5        #6       \n",
      "  0 O 1s      -0.21539   0.01129\n",
      "  0 O 2s       0.15701   0.40227\n",
      "  0 O 3s       0.17661   0.46112\n",
      "  0 O 2px      0.04969   0.19437\n",
      "  0 O 2py      0.24061  -0.11909\n",
      "  0 O 2pz     -0.20642   0.10191\n",
      "  0 O 3px      0.00899   0.13977\n",
      "  0 O 3py      0.17888  -0.10337\n",
      "  0 O 3pz     -0.14796   0.07601\n",
      "  0 O 3dxy    -0.00229  -0.01355\n",
      "  0 O 3dyz     0.00856  -0.01626\n",
      "  0 O 3dz^2    0.00734   0.01078\n",
      "  0 O 3dxz    -0.01991  -0.00694\n",
      " 0 O 3dx2-y2  -0.00186   0.00862\n",
      "  1 H 1s      -0.17367  -0.54217\n",
      "  1 H 2s      -0.26423  -0.68460\n",
      "  2 H 1s       0.50794  -0.05277\n",
      "  2 H 2s       0.52364  -0.14472\n",
      "  3 O 1s       0.00135  -0.00063\n",
      "  3 O 2s       0.00277  -0.00344\n",
      "  3 O 3s      -0.00057   0.00777\n",
      "  3 O 2px     -0.02535   0.00908\n",
      "  3 O 2py      0.00048   0.00195\n",
      "  3 O 2pz     -0.02397   0.01014\n",
      "  3 O 3px     -0.01957   0.00793\n",
      "  3 O 3py      0.00102  -0.00235\n",
      "  3 O 3pz     -0.00348  -0.00200\n",
      "  3 O 3dxy     0.00013  -0.00123\n",
      "  3 O 3dyz     0.00067  -0.00002\n",
      "  3 O 3dz^2   -0.00156   0.00032\n",
      "  3 O 3dxz    -0.00015   0.00103\n",
      " 3 O 3dx2-y2  -0.00142   0.00080\n",
      "  4 H 1s      -0.00689   0.00237\n",
      "  4 H 2s      -0.00544   0.00322\n",
      "  5 H 1s      -0.04060   0.01656\n",
      "  5 H 2s      -0.03599   0.00279\n"
     ]
    }
   ],
   "source": [
    "assert numpy.linalg.norm(\n",
    "    reduce(numpy.dot, [c_pio_a.T, ovlp_ao, c_pio_a]) - numpy.eye(c_pio_a.shape[1])\n",
    ")\n",
    "dump_mo(mol, c_pio_a)"
   ]
  },
  {
   "cell_type": "code",
   "execution_count": 110,
   "id": "c27bc676-a4d1-487e-a1e9-ea0b664c291d",
   "metadata": {},
   "outputs": [
    {
     "name": "stdout",
     "output_type": "stream",
     "text": [
      "        #0        #1        #2        #3        #4       \n",
      "0     -11.08093  -2.38395   0.74270   9.41881  -1.39817\n",
      "1      -2.38395  -1.23596   0.33485   2.40497  -0.66313\n",
      "2       0.74270   0.33485  -0.49114  -0.64387  -0.04174\n",
      "3       9.41881   2.40497  -0.64387  -8.21238   1.30265\n",
      "4      -1.39817  -0.66313  -0.04174   1.30265  -0.69713\n",
      "5       1.43332  -0.21554   0.00584  -1.90143   0.05499\n",
      "6      -1.78120  -0.15470   0.40812   1.25643  -0.51532\n",
      "        #5        #6       \n",
      "0       1.43332  -1.78120\n",
      "1      -0.21554  -0.15470\n",
      "2       0.00584   0.40812\n",
      "3      -1.90143   1.25643\n",
      "4       0.05499  -0.51532\n",
      "5      -0.69134   0.30887\n",
      "6       0.30887  -0.22574\n"
     ]
    }
   ],
   "source": [
    "fock_ao = mf.get_fock()\n",
    "fock_pio_a = reduce(numpy.dot, [c_pio_a.T, fock_ao, c_pio_a])\n",
    "dump_rec(stdout, fock_pio_a)"
   ]
  },
  {
   "cell_type": "code",
   "execution_count": 109,
   "id": "33591e8d-75ea-4d2a-907d-514f8e2f0e4f",
   "metadata": {},
   "outputs": [],
   "source": [
    "c_ao_lo_a = c_ao_lo[:,idx_a]\n",
    "c_pio_a   = reduce(numpy.dot, [c_ao_lo_a, ua.T])\n",
    "npio = c_ao_lo_a.shape[1]\n",
    "\n",
    "for pp in range(npio):\n",
    "    tools.cubegen.orbital(mol, f'./cube/h2o_a_{pp}_{s[pp]:4.2f}_t.cube', c_pio_a[:,pp])\n",
    "\n",
    "c_ao_lo_b = c_ao_lo[:,idx_b]\n",
    "c_pio_b   = reduce(numpy.dot, [c_ao_lo_b, ub.T])\n",
    "npio = c_ao_lo_b.shape[1]\n",
    "\n",
    "for pp in range(npio):\n",
    "    tools.cubegen.orbital(mol, f'./cube/h2o_b_{pp}_{s[pp]:4.2f}_t.cube', c_pio_b[:,pp])"
   ]
  },
  {
   "cell_type": "code",
   "execution_count": null,
   "id": "5db7124a-b6cb-45d7-aa0c-dc5f871006ce",
   "metadata": {},
   "outputs": [],
   "source": []
  }
 ],
 "metadata": {
  "kernelspec": {
   "display_name": "Python 3",
   "language": "python",
   "name": "python3"
  },
  "language_info": {
   "codemirror_mode": {
    "name": "ipython",
    "version": 3
   },
   "file_extension": ".py",
   "mimetype": "text/x-python",
   "name": "python",
   "nbconvert_exporter": "python",
   "pygments_lexer": "ipython3",
   "version": "3.8.8"
  },
  "vscode": {
   "interpreter": {
    "hash": "cd6d3c4e16ae333676ac5ff0bb552f825d1015cadc6d12817bd9921e3f430be2"
   }
  }
 },
 "nbformat": 4,
 "nbformat_minor": 5
}
