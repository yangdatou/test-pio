{
 "cells": [
  {
   "cell_type": "code",
   "execution_count": 67,
   "id": "4513eda2-71e3-4a86-a03e-7601b01b795c",
   "metadata": {},
   "outputs": [
    {
     "name": "stdout",
     "output_type": "stream",
     "text": [
      "converged SCF energy = -152.060699033983\n"
     ]
    }
   ],
   "source": [
    "'''\n",
    "Mulliken population analysis with IAO orbitals\n",
    "'''\n",
    "\n",
    "import numpy\n",
    "from functools import reduce\n",
    "from sys import stdout\n",
    "from pyscf import gto, scf, lo\n",
    "from pyscf.tools.dump_mat import dump_rec\n",
    "from pyscf.tools.dump_mat import dump_mo\n",
    "\n",
    "h2o_1 = gto.M(atom=\"\"\"\n",
    "  O    1.3739407   -0.0638029   -0.2288247\n",
    "  H    2.1291628    0.5081390   -0.0925662\n",
    "  H    0.8631284   -0.0251761    0.5847385\n",
    "\"\"\", basis='cc-pvdz')\n",
    "\n",
    "h2o_2 = gto.M(atom=\"\"\"\n",
    "  O   -1.3716754   -0.0662078    0.2279844\n",
    "  H   -2.1274466    0.5076811    0.1037095\n",
    "  H   -0.8693669   -0.0228122   -0.5906583\n",
    "\"\"\", basis='cc-pvdz')\n",
    "\n",
    "nao_h2o = h2o_1.nao\n",
    "\n",
    "mol = h2o_1 + h2o_2\n",
    "mol.build()\n",
    "\n",
    "h2o_1_idx = gto.search_ao_label(mol, [\"0 O\", \"1 H\", \"2 H\"])\n",
    "h2o_2_idx = gto.search_ao_label(mol, [\"3 O\", \"4 H\", \"5 H\"])\n",
    "\n",
    "mf = scf.RHF(mol).run()\n",
    "c_ao_lo = lo.orth_ao(mf, 'nao')\n",
    "\n",
    "assert numpy.linalg.norm(reduce(numpy.dot, [c_ao_lo.T, mf.get_ovlp(), c_ao_lo]) - numpy.eye(c_ao_lo.shape[0])) < 1e-8"
   ]
  },
  {
   "cell_type": "code",
   "execution_count": 68,
   "id": "3d6df994-73f9-48fb-bb18-87b2f4792c06",
   "metadata": {},
   "outputs": [],
   "source": [
    "# check the localality\n",
    "from scipy.linalg import sqrtm\n",
    "ww = numpy.einsum(\"mn,np->mp\", sqrtm(mf.get_ovlp()), c_ao_lo)\n",
    "w2 = ww**2\n",
    "\n",
    "for i in range(nao_h2o):    \n",
    "    assert abs(1.0 - sum(w2[h2o_1_idx, i])) < 1e-2\n",
    "    assert abs(sum(w2[h2o_2_idx, i])) < 1e-2\n",
    "    assert abs(1.0 - sum(w2[h2o_2_idx, i + nao_h2o])) < 1e-2\n",
    "    assert abs(sum(w2[h2o_1_idx, i + nao_h2o])) < 1e-2"
   ]
  },
  {
   "cell_type": "code",
   "execution_count": 72,
   "id": "e553a549-3fa6-4bac-9658-e98937178205",
   "metadata": {},
   "outputs": [],
   "source": [
    "# transform mo_occ to IAO representation. Note the AO dimension is reduced\n",
    "ovlp_ao = mf.get_ovlp()\n",
    "dm_ao = mf.make_rdm1()\n",
    "dm_lo = reduce(numpy.dot, [c_ao_lo.T, ovlp_ao, dm_ao, ovlp_ao, c_ao_lo])\n",
    "assert numpy.linalg.norm(reduce(numpy.dot, [dm_lo/2, dm_lo/2]) - dm_lo/2) < 1e-8\n",
    "\n",
    "idx_a = h2o_1_idx\n",
    "idx_b = h2o_2_idx\n",
    "\n",
    "dm_aa = dm_lo[numpy.ix_(idx_a, idx_a)]\n",
    "dm_bb = dm_lo[idx_b, idx_b]\n",
    "dm_ab = dm_lo[idx_a, idx_b]"
   ]
  },
  {
   "cell_type": "code",
   "execution_count": 73,
   "id": "b3b4e647-d9ea-4343-a20a-2d1ae76efec8",
   "metadata": {},
   "outputs": [
    {
     "ename": "ValueError",
     "evalue": "expected matrix",
     "output_type": "error",
     "traceback": [
      "\u001b[0;31m---------------------------------------------------------------------------\u001b[0m",
      "\u001b[0;31mValueError\u001b[0m                                Traceback (most recent call last)",
      "\u001b[0;32m<ipython-input-73-fdd92e53aa76>\u001b[0m in \u001b[0;36m<module>\u001b[0;34m\u001b[0m\n\u001b[1;32m      1\u001b[0m \u001b[0;32mfrom\u001b[0m \u001b[0mscipy\u001b[0m \u001b[0;32mimport\u001b[0m \u001b[0mlinalg\u001b[0m\u001b[0;34m\u001b[0m\u001b[0;34m\u001b[0m\u001b[0m\n\u001b[1;32m      2\u001b[0m \u001b[0;34m\u001b[0m\u001b[0m\n\u001b[0;32m----> 3\u001b[0;31m \u001b[0muab\u001b[0m\u001b[0;34m,\u001b[0m \u001b[0msab\u001b[0m\u001b[0;34m,\u001b[0m \u001b[0mvhab\u001b[0m \u001b[0;34m=\u001b[0m \u001b[0mlinalg\u001b[0m\u001b[0;34m.\u001b[0m\u001b[0msvd\u001b[0m\u001b[0;34m(\u001b[0m\u001b[0mdm_ab\u001b[0m\u001b[0;34m)\u001b[0m\u001b[0;34m\u001b[0m\u001b[0;34m\u001b[0m\u001b[0m\n\u001b[0m\u001b[1;32m      4\u001b[0m numpy.linalg.norm(\n\u001b[1;32m      5\u001b[0m     \u001b[0mdm_ab\u001b[0m \u001b[0;34m-\u001b[0m \u001b[0mreduce\u001b[0m\u001b[0;34m(\u001b[0m\u001b[0mnumpy\u001b[0m\u001b[0;34m.\u001b[0m\u001b[0mdot\u001b[0m\u001b[0;34m,\u001b[0m \u001b[0;34m[\u001b[0m\u001b[0muab\u001b[0m\u001b[0;34m,\u001b[0m \u001b[0mnumpy\u001b[0m\u001b[0;34m.\u001b[0m\u001b[0mdiag\u001b[0m\u001b[0;34m(\u001b[0m\u001b[0msab\u001b[0m\u001b[0;34m)\u001b[0m\u001b[0;34m,\u001b[0m \u001b[0mvhab\u001b[0m\u001b[0;34m]\u001b[0m\u001b[0;34m)\u001b[0m\u001b[0;34m\u001b[0m\u001b[0;34m\u001b[0m\u001b[0m\n",
      "\u001b[0;32m~/opt/anaconda3/lib/python3.8/site-packages/scipy/linalg/decomp_svd.py\u001b[0m in \u001b[0;36msvd\u001b[0;34m(a, full_matrices, compute_uv, overwrite_a, check_finite, lapack_driver)\u001b[0m\n\u001b[1;32m    106\u001b[0m     \u001b[0ma1\u001b[0m \u001b[0;34m=\u001b[0m \u001b[0m_asarray_validated\u001b[0m\u001b[0;34m(\u001b[0m\u001b[0ma\u001b[0m\u001b[0;34m,\u001b[0m \u001b[0mcheck_finite\u001b[0m\u001b[0;34m=\u001b[0m\u001b[0mcheck_finite\u001b[0m\u001b[0;34m)\u001b[0m\u001b[0;34m\u001b[0m\u001b[0;34m\u001b[0m\u001b[0m\n\u001b[1;32m    107\u001b[0m     \u001b[0;32mif\u001b[0m \u001b[0mlen\u001b[0m\u001b[0;34m(\u001b[0m\u001b[0ma1\u001b[0m\u001b[0;34m.\u001b[0m\u001b[0mshape\u001b[0m\u001b[0;34m)\u001b[0m \u001b[0;34m!=\u001b[0m \u001b[0;36m2\u001b[0m\u001b[0;34m:\u001b[0m\u001b[0;34m\u001b[0m\u001b[0;34m\u001b[0m\u001b[0m\n\u001b[0;32m--> 108\u001b[0;31m         \u001b[0;32mraise\u001b[0m \u001b[0mValueError\u001b[0m\u001b[0;34m(\u001b[0m\u001b[0;34m'expected matrix'\u001b[0m\u001b[0;34m)\u001b[0m\u001b[0;34m\u001b[0m\u001b[0;34m\u001b[0m\u001b[0m\n\u001b[0m\u001b[1;32m    109\u001b[0m     \u001b[0mm\u001b[0m\u001b[0;34m,\u001b[0m \u001b[0mn\u001b[0m \u001b[0;34m=\u001b[0m \u001b[0ma1\u001b[0m\u001b[0;34m.\u001b[0m\u001b[0mshape\u001b[0m\u001b[0;34m\u001b[0m\u001b[0;34m\u001b[0m\u001b[0m\n\u001b[1;32m    110\u001b[0m     \u001b[0moverwrite_a\u001b[0m \u001b[0;34m=\u001b[0m \u001b[0moverwrite_a\u001b[0m \u001b[0;32mor\u001b[0m \u001b[0;34m(\u001b[0m\u001b[0m_datacopied\u001b[0m\u001b[0;34m(\u001b[0m\u001b[0ma1\u001b[0m\u001b[0;34m,\u001b[0m \u001b[0ma\u001b[0m\u001b[0;34m)\u001b[0m\u001b[0;34m)\u001b[0m\u001b[0;34m\u001b[0m\u001b[0;34m\u001b[0m\u001b[0m\n",
      "\u001b[0;31mValueError\u001b[0m: expected matrix"
     ]
    }
   ],
   "source": [
    "from scipy import linalg\n",
    "\n",
    "uab, sab, vhab = linalg.svd(dm_ab)\n",
    "numpy.linalg.norm(\n",
    "    dm_ab - reduce(numpy.dot, [uab, numpy.diag(sab), vhab])\n",
    ")"
   ]
  },
  {
   "cell_type": "code",
   "execution_count": null,
   "id": "643e420e-5566-44b7-95e3-5e70132fb1a0",
   "metadata": {},
   "outputs": [],
   "source": [
    "from pyscf import tools\n",
    "\n",
    "ua, sa, vha = linalg.svd(dm_aa)\n",
    "numpy.linalg.norm(\n",
    "    dm_aa - reduce(numpy.dot, [ua, numpy.diag(sa), vha])\n",
    ")\n",
    "\n",
    "# print(sa)\n",
    "# dump_rec(stdout, uab)\n",
    "# dump_rec(stdout, ua)\n",
    "\n",
    "ub, sb, vhb = linalg.svd(dm_bb)\n",
    "numpy.linalg.norm(\n",
    "    dm_bb - reduce(numpy.dot, [ub, numpy.diag(sb), vhb])\n",
    ")\n",
    "\n",
    "# print(sb)\n",
    "# dump_rec(stdout, ub)\n",
    "# dump_rec(stdout, vhab.T)"
   ]
  },
  {
   "cell_type": "code",
   "execution_count": null,
   "id": "2e56555b-b16d-4117-a62c-728803be77c3",
   "metadata": {},
   "outputs": [],
   "source": [
    "c_ao_lo_a = c_ao_lo[:,idx_a]\n",
    "c_pio_a   = reduce(numpy.dot, [c_ao_lo_a, ua])\n",
    "npio = c_ao_lo_a.shape[1]\n",
    "\n",
    "for pp in range(npio):\n",
    "    tools.cubegen.orbital(mol, f'./cube/h2o_a_{pp}_{s[pp]:4.2f}.cube', c_pio_a[:,pp])\n",
    "\n",
    "c_ao_lo_b = c_ao_lo[:,idx_b]\n",
    "c_pio_b   = reduce(numpy.dot, [c_ao_lo_b, ub])\n",
    "npio = c_ao_lo_b.shape[1]\n",
    "\n",
    "for pp in range(npio):\n",
    "    tools.cubegen.orbital(mol, f'./cube/h2o_b_{pp}_{s[pp]:4.2f}.cube', c_pio_b[:,pp])"
   ]
  },
  {
   "cell_type": "code",
   "execution_count": null,
   "id": "82082a1b-da84-4256-bfc5-a677ddb31d6f",
   "metadata": {},
   "outputs": [],
   "source": [
    "assert numpy.linalg.norm(\n",
    "    reduce(numpy.dot, [c_pio_a.T, ovlp_ao, c_pio_a]) - numpy.eye(c_pio_a.shape[1])\n",
    ")\n",
    "dump_mo(mol, c_pio_a)"
   ]
  },
  {
   "cell_type": "code",
   "execution_count": null,
   "id": "c27bc676-a4d1-487e-a1e9-ea0b664c291d",
   "metadata": {},
   "outputs": [],
   "source": [
    "fock_ao = mf.get_fock()\n",
    "fock_pio_a = reduce(numpy.dot, [c_pio_a.T, fock_ao, c_pio_a])\n",
    "dump_rec(stdout, fock_pio_a)"
   ]
  },
  {
   "cell_type": "code",
   "execution_count": null,
   "id": "33591e8d-75ea-4d2a-907d-514f8e2f0e4f",
   "metadata": {},
   "outputs": [],
   "source": [
    "c_ao_lo_a = c_ao_lo[:,idx_a]\n",
    "c_pio_a   = reduce(numpy.dot, [c_ao_lo_a, ua.T])\n",
    "npio = c_ao_lo_a.shape[1]\n",
    "\n",
    "for pp in range(npio):\n",
    "    tools.cubegen.orbital(mol, f'./cube/h2o_a_{pp}_{s[pp]:4.2f}_t.cube', c_pio_a[:,pp])\n",
    "\n",
    "c_ao_lo_b = c_ao_lo[:,idx_b]\n",
    "c_pio_b   = reduce(numpy.dot, [c_ao_lo_b, ub.T])\n",
    "npio = c_ao_lo_b.shape[1]\n",
    "\n",
    "for pp in range(npio):\n",
    "    tools.cubegen.orbital(mol, f'./cube/h2o_b_{pp}_{s[pp]:4.2f}_t.cube', c_pio_b[:,pp])"
   ]
  },
  {
   "cell_type": "code",
   "execution_count": null,
   "id": "5db7124a-b6cb-45d7-aa0c-dc5f871006ce",
   "metadata": {},
   "outputs": [],
   "source": []
  }
 ],
 "metadata": {
  "kernelspec": {
   "display_name": "Python 3",
   "language": "python",
   "name": "python3"
  },
  "language_info": {
   "codemirror_mode": {
    "name": "ipython",
    "version": 3
   },
   "file_extension": ".py",
   "mimetype": "text/x-python",
   "name": "python",
   "nbconvert_exporter": "python",
   "pygments_lexer": "ipython3",
   "version": "3.8.8"
  }
 },
 "nbformat": 4,
 "nbformat_minor": 5
}
