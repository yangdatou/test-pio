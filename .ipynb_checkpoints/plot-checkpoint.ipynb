{
 "cells": [
  {
   "cell_type": "code",
   "execution_count": 5,
   "id": "c8ebd5f9-c37d-41e9-8c61-fcf848b5e264",
   "metadata": {},
   "outputs": [],
   "source": [
    "from show_cube import show_cube\n",
    "show_cube(\"./cube/c2h6_10.cube\", out_file = \"test.png\", \n",
    "          rotate_x = 90.0, rotate_y = 0.0, rotate_z = 0.0,\n",
    "         iso = 0.1)\n"
   ]
  },
  {
   "cell_type": "markdown",
   "id": "75c8f165-e663-4b25-a555-836b223ec984",
   "metadata": {},
   "source": [
    "![title](./test.png)"
   ]
  },
  {
   "cell_type": "code",
   "execution_count": null,
   "id": "673f594e-b009-4fd4-b43c-fa6443d468bd",
   "metadata": {},
   "outputs": [],
   "source": []
  }
 ],
 "metadata": {
  "kernelspec": {
   "display_name": "Python 3",
   "language": "python",
   "name": "python3"
  },
  "language_info": {
   "codemirror_mode": {
    "name": "ipython",
    "version": 3
   },
   "file_extension": ".py",
   "mimetype": "text/x-python",
   "name": "python",
   "nbconvert_exporter": "python",
   "pygments_lexer": "ipython3",
   "version": "3.8.8"
  }
 },
 "nbformat": 4,
 "nbformat_minor": 5
}
