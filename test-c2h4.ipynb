{
 "cells": [
  {
   "cell_type": "code",
   "execution_count": 1,
   "id": "4513eda2-71e3-4a86-a03e-7601b01b795c",
   "metadata": {},
   "outputs": [
    {
     "name": "stdout",
     "output_type": "stream",
     "text": [
      "[ 0  1  2  3  4  5  6  7  8  9 10 11 12 13 14 15 16 17 18 19 20 21 22 23]\n",
      "[24 25 26 27 28 29 30 31 32 33 34 35 36 37 38 39 40 41 42 43 44 45 46 47]\n",
      "converged SCF energy = -78.0396286884589\n"
     ]
    }
   ],
   "source": [
    "'''\n",
    "Mulliken population analysis with IAO orbitals\n",
    "'''\n",
    "\n",
    "import numpy\n",
    "from functools import reduce\n",
    "from sys import stdout\n",
    "from pyscf import gto, scf, lo\n",
    "from pyscf.tools.dump_mat import dump_rec\n",
    "from pyscf.tools.dump_mat import dump_mo\n",
    "\n",
    "mol = gto.M(atom=\"\"\"\n",
    "  C1    0.0000000    0.0000000   -0.6654946\n",
    "  H1    0.0000000    0.9374306   -1.2121600\n",
    "  H1   -0.0000000   -0.9374306   -1.2121600\n",
    "  C2   -0.0000000    0.0000000    0.6654946\n",
    "  H2    0.0000000    0.9374306    1.2121600\n",
    "  H2   -0.0000000   -0.9374306    1.2121600\n",
    "\"\"\", basis='cc-pvdz')\n",
    "\n",
    "mol.build()\n",
    "\n",
    "nao_h2o = mol.nao // 2\n",
    "\n",
    "h2o_1_idx = gto.search_ao_label(mol, [\"C1\", \"H1\"])\n",
    "h2o_2_idx = gto.search_ao_label(mol, [\"C2\", \"H2\"])\n",
    "\n",
    "print(h2o_1_idx)\n",
    "print(h2o_2_idx)\n",
    "\n",
    "mf = scf.RHF(mol).run()\n",
    "c_ao_lo = lo.orth_ao(mf, 'nao')\n",
    "\n",
    "assert numpy.linalg.norm(reduce(numpy.dot, [c_ao_lo.T, mf.get_ovlp(), c_ao_lo]) - numpy.eye(c_ao_lo.shape[0])) < 1e-8"
   ]
  },
  {
   "cell_type": "code",
   "execution_count": 2,
   "id": "3d6df994-73f9-48fb-bb18-87b2f4792c06",
   "metadata": {},
   "outputs": [],
   "source": [
    "# check the localality\n",
    "from scipy.linalg import sqrtm\n",
    "ww = numpy.einsum(\"mn,np->mp\", sqrtm(mf.get_ovlp()), c_ao_lo)\n",
    "w2 = ww**2\n",
    "\n",
    "for i in range(nao_h2o):    \n",
    "    assert abs(1.0 - sum(w2[h2o_1_idx, i])) < 2e-1\n",
    "    assert abs(sum(w2[h2o_2_idx, i])) < 2e-1\n",
    "    assert abs(1.0 - sum(w2[h2o_2_idx, i + nao_h2o])) < 2e-1\n",
    "    assert abs(sum(w2[h2o_1_idx, i + nao_h2o])) < 2e-1"
   ]
  },
  {
   "cell_type": "code",
   "execution_count": 3,
   "id": "e553a549-3fa6-4bac-9658-e98937178205",
   "metadata": {},
   "outputs": [],
   "source": [
    "# transform mo_occ to IAO representation. Note the AO dimension is reduced\n",
    "ovlp_ao = mf.get_ovlp()\n",
    "dm_ao = mf.make_rdm1()\n",
    "dm_lo = reduce(numpy.dot, [c_ao_lo.T, ovlp_ao, dm_ao, ovlp_ao, c_ao_lo])\n",
    "assert numpy.linalg.norm(reduce(numpy.dot, [dm_lo/2, dm_lo/2]) - dm_lo/2) < 1e-8\n",
    "\n",
    "idx_a = h2o_1_idx\n",
    "idx_b = h2o_2_idx\n",
    "\n",
    "dm_aa = dm_lo[numpy.ix_(idx_a, idx_a)]\n",
    "dm_bb = dm_lo[numpy.ix_(idx_b, idx_b)]\n",
    "dm_ab = dm_lo[numpy.ix_(idx_a, idx_b)]"
   ]
  },
  {
   "cell_type": "code",
   "execution_count": 4,
   "id": "b3b4e647-d9ea-4343-a20a-2d1ae76efec8",
   "metadata": {},
   "outputs": [
    {
     "data": {
      "text/plain": [
       "1.0271198377762134e-15"
      ]
     },
     "execution_count": 4,
     "metadata": {},
     "output_type": "execute_result"
    }
   ],
   "source": [
    "from scipy import linalg\n",
    "\n",
    "uab, sab, vhab = linalg.svd(dm_ab)\n",
    "numpy.linalg.norm(\n",
    "    dm_ab - reduce(numpy.dot, [uab, numpy.diag(sab), vhab])\n",
    ")"
   ]
  },
  {
   "cell_type": "code",
   "execution_count": 5,
   "id": "643e420e-5566-44b7-95e3-5e70132fb1a0",
   "metadata": {},
   "outputs": [],
   "source": [
    "from pyscf import tools\n",
    "\n",
    "ua, sa, vha = linalg.svd(dm_aa)\n",
    "numpy.linalg.norm(\n",
    "    dm_aa - reduce(numpy.dot, [ua, numpy.diag(sa), vha])\n",
    ")\n",
    "\n",
    "tol = 1e-2\n",
    "cor_idx_a = []\n",
    "act_idx_a = []\n",
    "ext_idx_a = []\n",
    "\n",
    "for p, sp in enumerate(sa):\n",
    "    if abs(sp - 2.0) < tol:\n",
    "        cor_idx_a.append(p)\n",
    "    elif abs(sp) < tol:\n",
    "        ext_idx_a.append(p)\n",
    "    else:\n",
    "        act_idx_a.append(p)\n",
    "\n",
    "ub, sb, vhb = linalg.svd(dm_bb)\n",
    "numpy.linalg.norm(\n",
    "    dm_bb - reduce(numpy.dot, [ub, numpy.diag(sb), vhb])\n",
    ")\n",
    "\n",
    "cor_idx_b = []\n",
    "act_idx_b = []\n",
    "ext_idx_b = []\n",
    "\n",
    "for p, sp in enumerate(sb):\n",
    "    if abs(sp - 2.0) < tol:\n",
    "        cor_idx_b.append(p)\n",
    "    elif abs(sp) < tol:\n",
    "        ext_idx_b.append(p)\n",
    "    else:\n",
    "        act_idx_b.append(p)"
   ]
  },
  {
   "cell_type": "code",
   "execution_count": 6,
   "id": "92a245c9-a20e-4f20-8408-56df56e403ec",
   "metadata": {},
   "outputs": [
    {
     "name": "stdout",
     "output_type": "stream",
     "text": [
      "[0, 1] [2, 3, 4, 5] [6, 7, 8, 9, 10, 11, 12, 13, 14, 15, 16, 17, 18, 19, 20, 21, 22, 23]\n",
      "3.995770725446117\n",
      "3.9999999999999987\n",
      "0.004229274553879073\n",
      "[0, 1] [2, 3, 4, 5] [6, 7, 8, 9, 10, 11, 12, 13, 14, 15, 16, 17, 18, 19, 20, 21, 22, 23]\n",
      "3.995770725446117\n",
      "3.9999999999999987\n",
      "0.004229274553879073\n"
     ]
    }
   ],
   "source": [
    "cas_nmo  = 0\n",
    "cas_elec = 0.0\n",
    "\n",
    "print(cor_idx_a, act_idx_a, ext_idx_a)\n",
    "print(sum(sa[cor_idx_a]))\n",
    "print(sum(sa[act_idx_a]))\n",
    "print(sum(sa[ext_idx_a]))\n",
    "\n",
    "cas_nmo  += len(sa[act_idx_a])\n",
    "cas_elec += sum(sa[act_idx_a])\n",
    "\n",
    "print(cor_idx_b, act_idx_b, ext_idx_b)\n",
    "print(sum(sa[cor_idx_b]))\n",
    "print(sum(sa[act_idx_b]))\n",
    "print(sum(sa[ext_idx_b]))\n",
    "\n",
    "cas_nmo  += len(sa[act_idx_b])\n",
    "cas_elec += sum(sa[act_idx_b])\n",
    "cas_elec  = int(numpy.round(cas_elec))\n"
   ]
  },
  {
   "cell_type": "code",
   "execution_count": 7,
   "id": "994b655c-5526-455e-af7a-1d1a2b8f7b8d",
   "metadata": {},
   "outputs": [
    {
     "name": "stdout",
     "output_type": "stream",
     "text": [
      "8\n",
      "8\n"
     ]
    }
   ],
   "source": [
    "print(cas_elec)\n",
    "print(cas_nmo)"
   ]
  },
  {
   "cell_type": "code",
   "execution_count": 8,
   "id": "2e56555b-b16d-4117-a62c-728803be77c3",
   "metadata": {},
   "outputs": [],
   "source": [
    "c_ao_lo_a = c_ao_lo[:,idx_a]\n",
    "c_pio_a   = reduce(numpy.dot, [c_ao_lo_a, ua])\n",
    "npio = c_ao_lo_a.shape[1]\n",
    "\n",
    "# for pp in range(npio):\n",
    "#     tools.cubegen.orbital(mol, f'./cube/ch3_a_{pp}_{sa[pp]:4.2e}.cube', c_pio_a[:,pp])\n",
    "\n",
    "c_ao_lo_b = c_ao_lo[:,idx_b]\n",
    "c_pio_b   = reduce(numpy.dot, [c_ao_lo_b, ub])\n",
    "npio = c_ao_lo_b.shape[1]\n",
    "\n",
    "# for pp in range(npio):\n",
    "#     tools.cubegen.orbital(mol, f'./cube/ch3_b_{pp}_{sb[pp]:4.2e}.cube', c_pio_b[:,pp])"
   ]
  },
  {
   "cell_type": "code",
   "execution_count": 9,
   "id": "82082a1b-da84-4256-bfc5-a677ddb31d6f",
   "metadata": {},
   "outputs": [],
   "source": [
    "assert numpy.linalg.norm(\n",
    "    reduce(numpy.dot, [c_pio_a.T, ovlp_ao, c_pio_a]) - numpy.eye(c_pio_a.shape[1])\n",
    ")"
   ]
  },
  {
   "cell_type": "code",
   "execution_count": 10,
   "id": "f09e84ee-c032-46f6-abd2-9e18d09a0549",
   "metadata": {},
   "outputs": [],
   "source": [
    "nao, nmo = mf.mo_coeff.shape\n",
    "coeff = numpy.empty([nao, nmo])\n",
    "\n",
    "mo_occ = [0 for p in range(nmo)]\n",
    "\n",
    "cor_list = []\n",
    "cas_list = []\n",
    "ext_list = []\n",
    "\n",
    "count = 0\n",
    "\n",
    "for p in cor_idx_a:\n",
    "    pp = count\n",
    "    mo_occ[pp] = 2 \n",
    "    cor_list.append(pp)\n",
    "    coeff[:, pp] = c_pio_a[:, p]\n",
    "    count += 1\n",
    "\n",
    "for p in cor_idx_b:\n",
    "    pp = count\n",
    "    mo_occ[pp] = 2\n",
    "    cor_list.append(pp)\n",
    "    coeff[:, pp] = c_pio_b[:, p]\n",
    "    count += 1\n",
    "\n",
    "for p in act_idx_a:\n",
    "    pp = count\n",
    "    cas_list.append(pp)\n",
    "    coeff[:, pp] = c_pio_a[:, p]\n",
    "    count += 1\n",
    "\n",
    "for p in act_idx_b:\n",
    "    pp = count\n",
    "    cas_list.append(pp)\n",
    "    coeff[:, pp] = c_pio_b[:, p]\n",
    "    count += 1\n",
    "    \n",
    "for p in ext_idx_a:\n",
    "    pp = count\n",
    "    ext_list.append(pp)\n",
    "    coeff[:, pp] = c_pio_a[:, p]\n",
    "    count += 1\n",
    "\n",
    "for p in ext_idx_b:\n",
    "    pp = count\n",
    "    ext_list.append(pp)\n",
    "    coeff[:, pp] = c_pio_b[:, p]\n",
    "    count += 1\n",
    "\n",
    "assert count == nmo"
   ]
  },
  {
   "cell_type": "code",
   "execution_count": 11,
   "id": "95167282-6635-41c1-a4e4-8a40d476a1db",
   "metadata": {},
   "outputs": [
    {
     "data": {
      "text/plain": [
       "[4, 5, 6, 7, 8, 9, 10, 11]"
      ]
     },
     "execution_count": 11,
     "metadata": {},
     "output_type": "execute_result"
    }
   ],
   "source": [
    "cas_list"
   ]
  },
  {
   "cell_type": "code",
   "execution_count": 12,
   "id": "d54e953b-0730-429c-b03a-58813b476db3",
   "metadata": {},
   "outputs": [
    {
     "name": "stdout",
     "output_type": "stream",
     "text": [
      "Processing 4\n",
      "Processing 5\n",
      "Processing 6\n",
      "Processing 7\n",
      "Processing 8\n",
      "Processing 9\n",
      "Processing 10\n",
      "Processing 11\n"
     ]
    }
   ],
   "source": [
    "assert numpy.linalg.norm(\n",
    "    reduce(numpy.dot, [coeff.T, ovlp_ao, coeff]) - numpy.eye(nmo)\n",
    ")\n",
    "\n",
    "\n",
    "with open(\"./cube_list.log\", \"w\") as f:\n",
    "    for pp in cas_list:\n",
    "        print(f\"Processing {pp}\")\n",
    "        file_path = f'c2h6_{pp}'\n",
    "        tools.cubegen.orbital(mol, \"./cube/\"+file_path+\".cube\", coeff[:,pp])\n",
    "        f.write(file_path+\"\\n\")"
   ]
  },
  {
   "cell_type": "code",
   "execution_count": 13,
   "id": "6d6f1106-80d6-40dc-8561-5b5075fdf5a1",
   "metadata": {},
   "outputs": [
    {
     "data": {
      "text/plain": [
       "8"
      ]
     },
     "execution_count": 13,
     "metadata": {},
     "output_type": "execute_result"
    }
   ],
   "source": [
    "len(cas_list)"
   ]
  },
  {
   "cell_type": "code",
   "execution_count": 14,
   "id": "63746b6c-d3dc-47cf-9581-b0662790e029",
   "metadata": {},
   "outputs": [
    {
     "name": "stdout",
     "output_type": "stream",
     "text": [
      "CASCI E = -78.0993559839132  E(CI) = -16.286127094696  S^2 = 0.0000000\n"
     ]
    }
   ],
   "source": [
    "from pyscf import mcscf\n",
    "\n",
    "mf.mo_coeff = coeff\n",
    "mycas = mcscf.CASCI(mf, len(cas_list), len(cas_list))\n",
    "mo = mycas.sort_mo(cas_list)\n",
    "mycas.kernel()\n",
    "mycas.verbose = 0\n",
    "# mycas.analyze()"
   ]
  },
  {
   "cell_type": "code",
   "execution_count": 15,
   "id": "adafaebf-c5ec-4aab-85bd-e55a77578ada",
   "metadata": {},
   "outputs": [
    {
     "data": {
      "text/plain": [
       "0.39056611167879146"
      ]
     },
     "execution_count": 15,
     "metadata": {},
     "output_type": "execute_result"
    }
   ],
   "source": [
    "2 * 0.441908424721**2"
   ]
  },
  {
   "cell_type": "code",
   "execution_count": 16,
   "id": "985db411-4c1f-47d0-91f0-10bb79ca63de",
   "metadata": {},
   "outputs": [
    {
     "data": {
      "text/plain": [
       "0.5268380404417691"
      ]
     },
     "execution_count": 16,
     "metadata": {},
     "output_type": "execute_result"
    }
   ],
   "source": [
    "2 * 0.513243626576**2"
   ]
  },
  {
   "cell_type": "code",
   "execution_count": 27,
   "id": "8fa83436-7dda-479b-97a2-8a27e681de59",
   "metadata": {},
   "outputs": [
    {
     "name": "stdout",
     "output_type": "stream",
     "text": [
      "** Largest CI components **\n",
      "  [alpha occ-orbitals] [beta occ-orbitals]            CI coefficient\n",
      "  [4, 5, 6, 8]         [4, 5, 6, 8]                     9.4011e-02\n",
      "  [4, 8, 9, 10]        [4, 8, 9, 10]                    9.3978e-02\n",
      "  [4, 6, 8, 10]        [4, 6, 8, 10]                    5.4557e-02\n",
      "  [4, 5, 8, 9]         [4, 5, 8, 9]                     5.4548e-02\n",
      "  [4, 6, 8, 10]        [4, 6, 8, 10]                    5.3116e-02\n",
      "  [4, 5, 6, 8]         [4, 5, 6, 8]                     5.3115e-02\n",
      "  [4, 5, 8, 9]         [4, 5, 8, 9]                     5.3100e-02\n",
      "  [4, 8, 9, 10]        [4, 8, 9, 10]                    5.3099e-02\n",
      "  [4, 5, 6, 8]         [4, 5, 6, 8]                     4.0472e-02\n",
      "  [4, 5, 8, 9]         [4, 5, 8, 9]                     4.0470e-02\n",
      "cc_sum = 0.5905\n"
     ]
    }
   ],
   "source": [
    "ci = mycas.ci\n",
    "if (ci is not None and\n",
    "    (getattr(mycas.fcisolver, 'large_ci', None) or\n",
    "     getattr(mycas.fcisolver, 'states_large_ci', None))):\n",
    "    print('** Largest CI components **')\n",
    "    print('  [alpha occ-orbitals] [beta occ-orbitals]            CI coefficient')\n",
    "    res = mycas.fcisolver.large_ci(ci, mycas.ncas, mycas.nelecas,\n",
    "                                    5e-2, return_strs=False)\n",
    "    \n",
    "    aa_list = []\n",
    "    bb_list = []\n",
    "    cc_list = []\n",
    "    \n",
    "    for c,ia,ib in res:\n",
    "        aa = [a+len(cor_list) for a in ia]\n",
    "        bb = [b+len(cor_list) for b in ib]\n",
    "        # print('  %-20s %-30s %12.4e'%(aa, bb, c**2))\n",
    "        cc = c**2\n",
    "        aa_list.append(aa)\n",
    "        bb_list.append(bb)\n",
    "        cc_list.append(cc)\n",
    "    \n",
    "    idx_list = numpy.argsort(cc_list)[::-1][:10]\n",
    "    \n",
    "    cc_sum = 0.0\n",
    "    for idx in idx_list:\n",
    "        print('  %-20s %-30s %12.4e'%(aa_list[idx], aa_list[idx], cc_list[idx]))\n",
    "        cc_sum += cc_list[idx]\n",
    "    print(\"cc_sum = %6.4f\"%cc_sum)"
   ]
  },
  {
   "cell_type": "code",
   "execution_count": 18,
   "id": "651b1e3b-927f-432f-8878-caae8e005ec2",
   "metadata": {},
   "outputs": [
    {
     "data": {
      "text/plain": [
       "[0, 1, 2, 3]"
      ]
     },
     "execution_count": 18,
     "metadata": {},
     "output_type": "execute_result"
    }
   ],
   "source": [
    "cor_list"
   ]
  },
  {
   "cell_type": "code",
   "execution_count": null,
   "id": "bb4ea62d-eda9-4574-a475-4148ffb998ca",
   "metadata": {},
   "outputs": [],
   "source": []
  }
 ],
 "metadata": {
  "kernelspec": {
   "display_name": "Python 3",
   "language": "python",
   "name": "python3"
  },
  "language_info": {
   "codemirror_mode": {
    "name": "ipython",
    "version": 3
   },
   "file_extension": ".py",
   "mimetype": "text/x-python",
   "name": "python",
   "nbconvert_exporter": "python",
   "pygments_lexer": "ipython3",
   "version": "3.8.8"
  }
 },
 "nbformat": 4,
 "nbformat_minor": 5
}
